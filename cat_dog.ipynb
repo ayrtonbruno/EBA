{
 "cells": [
  {
   "cell_type": "markdown",
   "metadata": {},
   "source": [
    "Somos uma ong de animais e queremos incentivar a adoção de pets. Para isso, vamos mostrar um vídeo de animais para as pessoas.\n",
    "Porém, não sabemos o que é mais efetivo: um vídeo de cachorros ou um vídeo de gatos.\n",
    "\n",
    "Por isso, resolvemos rodar um experimento: vamos criar 2 vídeos, um de cachorro e outro de gato. Depois, vamos perguntar as pessoas a probabilidade de que ela adote um animal.\n",
    "\n",
    "*As pessoas desse experimento só verão 1 vídeo cada\n",
    "\n",
    "*Ao final do vídeo perguntamos a elas a probabilidade de que elas adotem um animal\n",
    "\n",
    "*As amostras são aleatorias e sem viéses sistematicos\n",
    "\n",
    "Objetivo:\n",
    "Avaliar qual animal (cachorro ou gato) deve estar\n",
    "em um vídeo de campanha de adoção\n",
    "\n",
    "Experimento:\n",
    "500 pessoas que não possuem animais de estimação assistem aos vídeos\n",
    "de campanha de adoção. Os vídeos são idênticos com exceção dos animais\n",
    "mostrados:\n",
    "\n",
    "- 250 pessoas aleatorizadas para o vídeo com gato\n",
    "- 250 pessoas aleatorizadas para o vídeo com cachorro\n",
    "\n",
    "Resposta:\n",
    "\"Qual a chance de adotar um pet? (0-100)\" depois do vídeo\n",
    "\n",
    "A média de probabilidade de quem ve o vídeo de gato é igual a de cachorro?"
   ]
  },
  {
   "cell_type": "code",
   "execution_count": 1,
   "metadata": {},
   "outputs": [],
   "source": [
    "import numpy as np\n",
    "import pandas as pd\n",
    "import matplotlib.pyplot as plt\n",
    "import seaborn as sns\n",
    "from scipy import stats as st"
   ]
  },
  {
   "cell_type": "code",
   "execution_count": 2,
   "metadata": {},
   "outputs": [],
   "source": [
    "def gl_2samp_mean(n1, n2, s1=None, s2=None, equal_var=True):\n",
    "    \"\"\"Função para calcular o grau de liberdade da distribuição t que iremos usar no teste de hipótese.\n",
    "    Leva em consideração se as variâncias populacionais são iguais ou não.\n",
    "    Argumentos:\n",
    "        n1 (int): tamanho da amostra 1\n",
    "        n2 (int): tamanho da amostra 2\n",
    "        s1 (float, opcional): desvio padrão da amostra 1\n",
    "        s2 (float, opcional): desvio padrão da amostra 2\n",
    "        equal_var (bool, opcional): condição para definir o método de cálculo do grau de liberdade\n",
    "\n",
    "    Retorno:\n",
    "        float: graus de liberdade da distribuição t.\n",
    "    \"\"\"    \n",
    "    if equal_var == True:\n",
    "        return n1 + n2 - 2\n",
    "    else:\n",
    "        A, B = s1**2/n1, s2**2/n2 #type: ignore\n",
    "        gl = (A + B)**2/(A**2/(n1 - 1) + B**2/(n2 - 1))\n",
    "        return gl"
   ]
  },
  {
   "cell_type": "code",
   "execution_count": 4,
   "metadata": {},
   "outputs": [],
   "source": [
    "df = pd.read_csv('cachorro_gato.csv')"
   ]
  },
  {
   "cell_type": "code",
   "execution_count": 5,
   "metadata": {},
   "outputs": [
    {
     "name": "stdout",
     "output_type": "stream",
     "text": [
      "<class 'pandas.core.frame.DataFrame'>\n",
      "RangeIndex: 500 entries, 0 to 499\n",
      "Data columns (total 3 columns):\n",
      " #   Column      Non-Null Count  Dtype  \n",
      "---  ------      --------------  -----  \n",
      " 0   Unnamed: 0  500 non-null    int64  \n",
      " 1   grupo       500 non-null    int64  \n",
      " 2   escore      500 non-null    float64\n",
      "dtypes: float64(1), int64(2)\n",
      "memory usage: 11.8 KB\n"
     ]
    }
   ],
   "source": [
    "df.info()"
   ]
  },
  {
   "cell_type": "code",
   "execution_count": 5,
   "metadata": {},
   "outputs": [
    {
     "data": {
      "text/html": [
       "<div>\n",
       "<style scoped>\n",
       "    .dataframe tbody tr th:only-of-type {\n",
       "        vertical-align: middle;\n",
       "    }\n",
       "\n",
       "    .dataframe tbody tr th {\n",
       "        vertical-align: top;\n",
       "    }\n",
       "\n",
       "    .dataframe thead th {\n",
       "        text-align: right;\n",
       "    }\n",
       "</style>\n",
       "<table border=\"1\" class=\"dataframe\">\n",
       "  <thead>\n",
       "    <tr style=\"text-align: right;\">\n",
       "      <th></th>\n",
       "      <th>Unnamed: 0</th>\n",
       "      <th>grupo</th>\n",
       "      <th>escore</th>\n",
       "    </tr>\n",
       "  </thead>\n",
       "  <tbody>\n",
       "    <tr>\n",
       "      <th>0</th>\n",
       "      <td>0</td>\n",
       "      <td>1</td>\n",
       "      <td>59.853433</td>\n",
       "    </tr>\n",
       "    <tr>\n",
       "      <th>1</th>\n",
       "      <td>1</td>\n",
       "      <td>0</td>\n",
       "      <td>66.353529</td>\n",
       "    </tr>\n",
       "    <tr>\n",
       "      <th>2</th>\n",
       "      <td>2</td>\n",
       "      <td>1</td>\n",
       "      <td>56.495813</td>\n",
       "    </tr>\n",
       "    <tr>\n",
       "      <th>3</th>\n",
       "      <td>3</td>\n",
       "      <td>0</td>\n",
       "      <td>67.995090</td>\n",
       "    </tr>\n",
       "    <tr>\n",
       "      <th>4</th>\n",
       "      <td>4</td>\n",
       "      <td>1</td>\n",
       "      <td>70.434375</td>\n",
       "    </tr>\n",
       "  </tbody>\n",
       "</table>\n",
       "</div>"
      ],
      "text/plain": [
       "   Unnamed: 0  grupo     escore\n",
       "0           0      1  59.853433\n",
       "1           1      0  66.353529\n",
       "2           2      1  56.495813\n",
       "3           3      0  67.995090\n",
       "4           4      1  70.434375"
      ]
     },
     "execution_count": 5,
     "metadata": {},
     "output_type": "execute_result"
    }
   ],
   "source": [
    "df.head()"
   ]
  },
  {
   "cell_type": "code",
   "execution_count": 6,
   "metadata": {},
   "outputs": [
    {
     "name": "stdout",
     "output_type": "stream",
     "text": [
      "Assimetria de scores para gatos: -0.11\n",
      "Assimetria de scores para cachorros: -0.26\n"
     ]
    }
   ],
   "source": [
    "print(f'Assimetria de scores para gatos: {st.skew(df[df.grupo == 0].escore):.2f}')\n",
    "print(f'Assimetria de scores para cachorros: {st.skew(df[df.grupo == 1].escore):.2f}')"
   ]
  },
  {
   "cell_type": "code",
   "execution_count": 7,
   "metadata": {},
   "outputs": [
    {
     "data": {
      "image/png": "[encoded data removed]",
      "text/plain": [
       "<Figure size 640x480 with 1 Axes>"
      ]
     },
     "metadata": {},
     "output_type": "display_data"
    }
   ],
   "source": [
    "sns.histplot(data=df, x=df[df.grupo == 0].escore, color='orange', label='gatos', bins=35)\n",
    "sns.histplot(data=df, x=df[df.grupo == 1].escore, color='blue', label='cachorros', bins=35)\n",
    "plt.xlabel('Scores [0, 100]')\n",
    "plt.legend()\n",
    "plt.show()"
   ]
  },
  {
   "cell_type": "code",
   "execution_count": 8,
   "metadata": {},
   "outputs": [
    {
     "data": {
      "text/html": [
       "<div>\n",
       "<style scoped>\n",
       "    .dataframe tbody tr th:only-of-type {\n",
       "        vertical-align: middle;\n",
       "    }\n",
       "\n",
       "    .dataframe tbody tr th {\n",
       "        vertical-align: top;\n",
       "    }\n",
       "\n",
       "    .dataframe thead th {\n",
       "        text-align: right;\n",
       "    }\n",
       "</style>\n",
       "<table border=\"1\" class=\"dataframe\">\n",
       "  <thead>\n",
       "    <tr style=\"text-align: right;\">\n",
       "      <th></th>\n",
       "      <th>grupo</th>\n",
       "      <th>escore</th>\n",
       "      <th>pet</th>\n",
       "    </tr>\n",
       "  </thead>\n",
       "  <tbody>\n",
       "    <tr>\n",
       "      <th>0</th>\n",
       "      <td>1</td>\n",
       "      <td>59.853433</td>\n",
       "      <td>cachorro</td>\n",
       "    </tr>\n",
       "    <tr>\n",
       "      <th>1</th>\n",
       "      <td>0</td>\n",
       "      <td>66.353529</td>\n",
       "      <td>gato</td>\n",
       "    </tr>\n",
       "    <tr>\n",
       "      <th>2</th>\n",
       "      <td>1</td>\n",
       "      <td>56.495813</td>\n",
       "      <td>cachorro</td>\n",
       "    </tr>\n",
       "    <tr>\n",
       "      <th>3</th>\n",
       "      <td>0</td>\n",
       "      <td>67.995090</td>\n",
       "      <td>gato</td>\n",
       "    </tr>\n",
       "    <tr>\n",
       "      <th>4</th>\n",
       "      <td>1</td>\n",
       "      <td>70.434375</td>\n",
       "      <td>cachorro</td>\n",
       "    </tr>\n",
       "  </tbody>\n",
       "</table>\n",
       "</div>"
      ],
      "text/plain": [
       "   grupo     escore       pet\n",
       "0      1  59.853433  cachorro\n",
       "1      0  66.353529      gato\n",
       "2      1  56.495813  cachorro\n",
       "3      0  67.995090      gato\n",
       "4      1  70.434375  cachorro"
      ]
     },
     "execution_count": 8,
     "metadata": {},
     "output_type": "execute_result"
    }
   ],
   "source": [
    "df['pet'] = df.grupo.map({0: 'gato', 1: 'cachorro'}) # criando coluna nova chamada \"pet\" utilizando \n",
    "\n",
    "df = df.iloc[:, 1:]\n",
    "\n",
    "df.head()"
   ]
  },
  {
   "cell_type": "code",
   "execution_count": 9,
   "metadata": {},
   "outputs": [
    {
     "data": {
      "text/plain": [
       "pet\n",
       "gato        253\n",
       "cachorro    247\n",
       "Name: count, dtype: int64"
      ]
     },
     "execution_count": 9,
     "metadata": {},
     "output_type": "execute_result"
    }
   ],
   "source": [
    "df.pet.value_counts()"
   ]
  },
  {
   "cell_type": "markdown",
   "metadata": {},
   "source": [
    "# Teste de Hipótese\n",
    "\n",
    "1. Não sabemos desvios padrão populacionais (score de gatos e scores de cachorros)\n",
    "\n",
    "2. Cada amostra possui pelo menos 30 dados\n",
    "\n",
    "Portanto, o teste a ser realizado será o t.\n",
    "\n",
    "$H0: x̄_{gato} = x̄_{cachorro}$\n",
    "\n",
    "$HA: x̄_{gato} \\neq x̄_{cachorro}$"
   ]
  },
  {
   "cell_type": "code",
   "execution_count": 10,
   "metadata": {},
   "outputs": [
    {
     "name": "stdout",
     "output_type": "stream",
     "text": [
      "Variância para os Scores de gatos: 215.074\n",
      "Variância para os Score de cachorros: 222.406\n"
     ]
    }
   ],
   "source": [
    "print(f'Variância para os Scores de gatos: {df[df.pet == \"gato\"].escore.var():.3f}')\n",
    "print(f'Variância para os Score de cachorros: { df[df.pet == \"cachorro\"].escore.var():.3f}')"
   ]
  },
  {
   "cell_type": "code",
   "execution_count": 13,
   "metadata": {},
   "outputs": [
    {
     "name": "stdout",
     "output_type": "stream",
     "text": [
      "Média de Scores para gatos: 55.532\n",
      "\n",
      "Média de Scores para cachorros: 56.744\n",
      "\n",
      "Valor crítico a 95% de confiança: -1.965\n",
      "\n",
      "Estatística de teste (t): -0.916\n",
      "\n",
      "Graus de Liberdade: 497.172\n",
      "\n",
      "Nível de Significância: 0.05\n"
     ]
    }
   ],
   "source": [
    "med_cat, std_cat = df[df.pet == 'gato'].escore.mean(), df[df.pet == 'gato'].escore.std() # média e desvio padrão para gatos\n",
    "\n",
    "med_dog, std_dog = df[df.pet == 'cachorro'].escore.mean(), df[df.pet == 'cachorro'].escore.std() # média e desvio padrão para cachorro\n",
    "\n",
    "S_catdog = np.sqrt(std_dog**2/247 + std_cat**2/253) # variância combinada considerando variâncias populacionais diferentes\n",
    "\n",
    "gl = gl_2samp_mean(253, 247, std_cat, std_dog, False) # cálculo de graus de liberdade\n",
    "\n",
    "t = (med_cat - med_dog) / S_catdog # valor para a diferença das médias de gatos e cachorros\n",
    "\n",
    "alfa = 0.05\n",
    "\n",
    "t_crit = st.t.ppf(alfa / 2, gl) # valor crítico de t\n",
    "\n",
    "p_valor = 2 * st.t.sf(abs(t), gl) # p valor\n",
    "\n",
    "print(f'Média de Scores para gatos: {med_cat:.3f}\\n')\n",
    "print(f'Média de Scores para cachorros: {med_dog:.3f}\\n')\n",
    "print(f'Valor crítico a 95% de confiança: {t_crit:.3f}\\n')\n",
    "print(f'Estatística de teste (t): {t:.3f}\\n')\n",
    "print(f'Graus de Liberdade: {gl:.3f}\\n')\n",
    "print(f'Nível de Significância: {alfa}')"
   ]
  },
  {
   "cell_type": "code",
   "execution_count": 14,
   "metadata": {},
   "outputs": [
    {
     "name": "stdout",
     "output_type": "stream",
     "text": [
      "RESPOSTA:\n",
      "\n",
      "Não rejeite H0, pois p = 0.360 é maior que alfa.\n"
     ]
    }
   ],
   "source": [
    "print(f'RESPOSTA:\\n')\n",
    "if p_valor <= alfa:\n",
    "    print(f'Rejeite H0, pois p = {p_valor:.3f} é menor que {alfa}.')\n",
    "else:\n",
    "    print(f'Não rejeite H0, pois p = {p_valor:.3f} é maior que alfa.')"
   ]
  },
  {
   "cell_type": "code",
   "execution_count": 15,
   "metadata": {},
   "outputs": [
    {
     "data": {
      "image/png": "[encoded data removed]",
      "text/plain": [
       "<Figure size 1000x600 with 1 Axes>"
      ]
     },
     "metadata": {},
     "output_type": "display_data"
    }
   ],
   "source": [
    "intervalo = np.linspace(-3, 3, 1000) # definindo o intervalo de valores para plotar o gráfico\n",
    "\n",
    "pdf = st.t.pdf(intervalo, gl) # valores da distribuição t considerando nosso intervalo e os graus de liberdade\n",
    "\n",
    "plt.figure(figsize=(10, 6))\n",
    "plt.plot(intervalo, pdf, color='blue', alpha=0.2) # plot da linha da curva da distribuição\n",
    "\n",
    "# preenchendo com azul a região do gráfico em que NÃO se rejeita H0\n",
    "plt.fill_between(intervalo, pdf, where=(intervalo >= t_crit) & (intervalo <= abs(t_crit)), alpha=0.5, color='blue', label='Intervalo de Confiança')\n",
    "\n",
    "# preenchendo com vermelho as regiões críticas\n",
    "plt.fill_between(intervalo, pdf, where=(intervalo <= t_crit), color='red', alpha=0.5, label='Região Crítica')\n",
    "plt.fill_between(intervalo, pdf, where=(intervalo >= -t_crit), color='red', alpha=0.5)\n",
    "\n",
    "# linha vertical pontilhada marcando os valores de t crítico\n",
    "plt.axvline(x=-t_crit, color='red', linestyle='--', alpha=0.5)\n",
    "plt.axvline(x=t_crit, color='red', linestyle='--', alpha=0.5)\n",
    "\n",
    "# linha vertical verde marcando o p valor\n",
    "plt.axvline(x=t, color='green', linestyle='--', alpha=0.8)\n",
    "\n",
    "# escrevendo no gráfico os valores de t crítico\n",
    "plt.annotate(f'{t_crit:.3f}',xy=(0, 0), xytext = (t_crit-0.15, -0.01), color='black')\n",
    "plt.annotate(f'{abs(t_crit):.3f}',xy=(0, 0), xytext = (abs(t_crit)-0.15, -0.01), color='black')\n",
    "\n",
    "# escrvendo o valor de 3 calculado\n",
    "plt.annotate(f'{t:.3f}', (0, 0), (t - 0.15, -0.01), color='black')\n",
    "\n",
    "\n",
    "plt.title(f'Distribuição t de Student; GL = {gl:.3f}') # título do gráfico\n",
    "plt.xlabel('x') # nome no eixo x\n",
    "plt.ylabel('Densidade de Probabilidade') # nome no eixo y\n",
    "plt.legend(loc = 'upper right') # posição da legenda de cada cor\n",
    "plt.show() # exibindo a imagem"
   ]
  },
  {
   "cell_type": "code",
   "execution_count": null,
   "metadata": {},
   "outputs": [
    {
     "data": {
      "text/plain": [
       "TtestResult(statistic=-0.9166663411409343, pvalue=0.35976119585131083, df=498.0)"
      ]
     },
     "execution_count": 14,
     "metadata": {},
     "output_type": "execute_result"
    }
   ],
   "source": [
    "st.ttest_ind(df[df.grupo == 0].escore, df[df.grupo == 1].escore)"
   ]
  },
  {
   "cell_type": "code",
   "execution_count": null,
   "metadata": {},
   "outputs": [
    {
     "data": {
      "text/plain": [
       "Ttest_indResult(statistic=-0.9164816309140925, pvalue=0.35985866686889656)"
      ]
     },
     "execution_count": 15,
     "metadata": {},
     "output_type": "execute_result"
    }
   ],
   "source": [
    "st.ttest_ind_from_stats(med_cat, std_cat, 253, med_dog, std_dog, 247, False)"
   ]
  }
 ],
 "metadata": {
  "kernelspec": {
   "display_name": "Python 3",
   "language": "python",
   "name": "python3"
  },
  "language_info": {
   "codemirror_mode": {
    "name": "ipython",
    "version": 3
   },
   "file_extension": ".py",
   "mimetype": "text/x-python",
   "name": "python",
   "nbconvert_exporter": "python",
   "pygments_lexer": "ipython3",
   "version": "3.11.5"
  }
 },
 "nbformat": 4,
 "nbformat_minor": 2
}
